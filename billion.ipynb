{
 "cells": [
  {
   "cell_type": "code",
   "execution_count": 1,
   "metadata": {},
   "outputs": [],
   "source": [
    "import pandas as pd\n",
    "import seaborn as sns\n",
    "import matplotlib.pyplot as plt"
   ]
  },
  {
   "cell_type": "code",
   "execution_count": 8,
   "metadata": {},
   "outputs": [],
   "source": [
    "dataset = pd.read_csv(\"Billionaires Statistics Dataset.csv\")\n",
    "dataset.set_index('rank', inplace=True)"
   ]
  },
  {
   "cell_type": "code",
   "execution_count": 9,
   "metadata": {},
   "outputs": [
    {
     "data": {
      "text/html": [
       "<div>\n",
       "<style scoped>\n",
       "    .dataframe tbody tr th:only-of-type {\n",
       "        vertical-align: middle;\n",
       "    }\n",
       "\n",
       "    .dataframe tbody tr th {\n",
       "        vertical-align: top;\n",
       "    }\n",
       "\n",
       "    .dataframe thead th {\n",
       "        text-align: right;\n",
       "    }\n",
       "</style>\n",
       "<table border=\"1\" class=\"dataframe\">\n",
       "  <thead>\n",
       "    <tr style=\"text-align: right;\">\n",
       "      <th></th>\n",
       "      <th>finalWorth</th>\n",
       "      <th>category</th>\n",
       "      <th>personName</th>\n",
       "      <th>age</th>\n",
       "      <th>country</th>\n",
       "      <th>city</th>\n",
       "      <th>source</th>\n",
       "      <th>industries</th>\n",
       "      <th>countryOfCitizenship</th>\n",
       "      <th>organization</th>\n",
       "      <th>...</th>\n",
       "      <th>cpi_change_country</th>\n",
       "      <th>gdp_country</th>\n",
       "      <th>gross_tertiary_education_enrollment</th>\n",
       "      <th>gross_primary_education_enrollment_country</th>\n",
       "      <th>life_expectancy_country</th>\n",
       "      <th>tax_revenue_country_country</th>\n",
       "      <th>total_tax_rate_country</th>\n",
       "      <th>population_country</th>\n",
       "      <th>latitude_country</th>\n",
       "      <th>longitude_country</th>\n",
       "    </tr>\n",
       "    <tr>\n",
       "      <th>rank</th>\n",
       "      <th></th>\n",
       "      <th></th>\n",
       "      <th></th>\n",
       "      <th></th>\n",
       "      <th></th>\n",
       "      <th></th>\n",
       "      <th></th>\n",
       "      <th></th>\n",
       "      <th></th>\n",
       "      <th></th>\n",
       "      <th></th>\n",
       "      <th></th>\n",
       "      <th></th>\n",
       "      <th></th>\n",
       "      <th></th>\n",
       "      <th></th>\n",
       "      <th></th>\n",
       "      <th></th>\n",
       "      <th></th>\n",
       "      <th></th>\n",
       "      <th></th>\n",
       "    </tr>\n",
       "  </thead>\n",
       "  <tbody>\n",
       "    <tr>\n",
       "      <th>1</th>\n",
       "      <td>211000</td>\n",
       "      <td>Fashion &amp; Retail</td>\n",
       "      <td>Bernard Arnault &amp; family</td>\n",
       "      <td>74.0</td>\n",
       "      <td>France</td>\n",
       "      <td>Paris</td>\n",
       "      <td>LVMH</td>\n",
       "      <td>Fashion &amp; Retail</td>\n",
       "      <td>France</td>\n",
       "      <td>LVMH Moët Hennessy Louis Vuitton</td>\n",
       "      <td>...</td>\n",
       "      <td>1.1</td>\n",
       "      <td>$2,715,518,274,227</td>\n",
       "      <td>65.6</td>\n",
       "      <td>102.5</td>\n",
       "      <td>82.5</td>\n",
       "      <td>24.2</td>\n",
       "      <td>60.7</td>\n",
       "      <td>67059887.0</td>\n",
       "      <td>46.227638</td>\n",
       "      <td>2.213749</td>\n",
       "    </tr>\n",
       "    <tr>\n",
       "      <th>2</th>\n",
       "      <td>180000</td>\n",
       "      <td>Automotive</td>\n",
       "      <td>Elon Musk</td>\n",
       "      <td>51.0</td>\n",
       "      <td>United States</td>\n",
       "      <td>Austin</td>\n",
       "      <td>Tesla, SpaceX</td>\n",
       "      <td>Automotive</td>\n",
       "      <td>United States</td>\n",
       "      <td>Tesla</td>\n",
       "      <td>...</td>\n",
       "      <td>7.5</td>\n",
       "      <td>$21,427,700,000,000</td>\n",
       "      <td>88.2</td>\n",
       "      <td>101.8</td>\n",
       "      <td>78.5</td>\n",
       "      <td>9.6</td>\n",
       "      <td>36.6</td>\n",
       "      <td>328239523.0</td>\n",
       "      <td>37.090240</td>\n",
       "      <td>-95.712891</td>\n",
       "    </tr>\n",
       "    <tr>\n",
       "      <th>3</th>\n",
       "      <td>114000</td>\n",
       "      <td>Technology</td>\n",
       "      <td>Jeff Bezos</td>\n",
       "      <td>59.0</td>\n",
       "      <td>United States</td>\n",
       "      <td>Medina</td>\n",
       "      <td>Amazon</td>\n",
       "      <td>Technology</td>\n",
       "      <td>United States</td>\n",
       "      <td>Amazon</td>\n",
       "      <td>...</td>\n",
       "      <td>7.5</td>\n",
       "      <td>$21,427,700,000,000</td>\n",
       "      <td>88.2</td>\n",
       "      <td>101.8</td>\n",
       "      <td>78.5</td>\n",
       "      <td>9.6</td>\n",
       "      <td>36.6</td>\n",
       "      <td>328239523.0</td>\n",
       "      <td>37.090240</td>\n",
       "      <td>-95.712891</td>\n",
       "    </tr>\n",
       "    <tr>\n",
       "      <th>4</th>\n",
       "      <td>107000</td>\n",
       "      <td>Technology</td>\n",
       "      <td>Larry Ellison</td>\n",
       "      <td>78.0</td>\n",
       "      <td>United States</td>\n",
       "      <td>Lanai</td>\n",
       "      <td>Oracle</td>\n",
       "      <td>Technology</td>\n",
       "      <td>United States</td>\n",
       "      <td>Oracle</td>\n",
       "      <td>...</td>\n",
       "      <td>7.5</td>\n",
       "      <td>$21,427,700,000,000</td>\n",
       "      <td>88.2</td>\n",
       "      <td>101.8</td>\n",
       "      <td>78.5</td>\n",
       "      <td>9.6</td>\n",
       "      <td>36.6</td>\n",
       "      <td>328239523.0</td>\n",
       "      <td>37.090240</td>\n",
       "      <td>-95.712891</td>\n",
       "    </tr>\n",
       "    <tr>\n",
       "      <th>5</th>\n",
       "      <td>106000</td>\n",
       "      <td>Finance &amp; Investments</td>\n",
       "      <td>Warren Buffett</td>\n",
       "      <td>92.0</td>\n",
       "      <td>United States</td>\n",
       "      <td>Omaha</td>\n",
       "      <td>Berkshire Hathaway</td>\n",
       "      <td>Finance &amp; Investments</td>\n",
       "      <td>United States</td>\n",
       "      <td>Berkshire Hathaway Inc. (Cl A)</td>\n",
       "      <td>...</td>\n",
       "      <td>7.5</td>\n",
       "      <td>$21,427,700,000,000</td>\n",
       "      <td>88.2</td>\n",
       "      <td>101.8</td>\n",
       "      <td>78.5</td>\n",
       "      <td>9.6</td>\n",
       "      <td>36.6</td>\n",
       "      <td>328239523.0</td>\n",
       "      <td>37.090240</td>\n",
       "      <td>-95.712891</td>\n",
       "    </tr>\n",
       "  </tbody>\n",
       "</table>\n",
       "<p>5 rows × 34 columns</p>\n",
       "</div>"
      ],
      "text/plain": [
       "      finalWorth               category                personName   age  \\\n",
       "rank                                                                      \n",
       "1         211000       Fashion & Retail  Bernard Arnault & family  74.0   \n",
       "2         180000             Automotive                 Elon Musk  51.0   \n",
       "3         114000             Technology                Jeff Bezos  59.0   \n",
       "4         107000             Technology             Larry Ellison  78.0   \n",
       "5         106000  Finance & Investments            Warren Buffett  92.0   \n",
       "\n",
       "            country    city              source             industries  \\\n",
       "rank                                                                     \n",
       "1            France   Paris                LVMH       Fashion & Retail   \n",
       "2     United States  Austin       Tesla, SpaceX             Automotive   \n",
       "3     United States  Medina              Amazon             Technology   \n",
       "4     United States   Lanai              Oracle             Technology   \n",
       "5     United States   Omaha  Berkshire Hathaway  Finance & Investments   \n",
       "\n",
       "     countryOfCitizenship                      organization  ...  \\\n",
       "rank                                                         ...   \n",
       "1                  France  LVMH Moët Hennessy Louis Vuitton  ...   \n",
       "2           United States                             Tesla  ...   \n",
       "3           United States                            Amazon  ...   \n",
       "4           United States                            Oracle  ...   \n",
       "5           United States    Berkshire Hathaway Inc. (Cl A)  ...   \n",
       "\n",
       "      cpi_change_country           gdp_country  \\\n",
       "rank                                             \n",
       "1                    1.1   $2,715,518,274,227    \n",
       "2                    7.5  $21,427,700,000,000    \n",
       "3                    7.5  $21,427,700,000,000    \n",
       "4                    7.5  $21,427,700,000,000    \n",
       "5                    7.5  $21,427,700,000,000    \n",
       "\n",
       "     gross_tertiary_education_enrollment  \\\n",
       "rank                                       \n",
       "1                                   65.6   \n",
       "2                                   88.2   \n",
       "3                                   88.2   \n",
       "4                                   88.2   \n",
       "5                                   88.2   \n",
       "\n",
       "     gross_primary_education_enrollment_country life_expectancy_country  \\\n",
       "rank                                                                      \n",
       "1                                         102.5                    82.5   \n",
       "2                                         101.8                    78.5   \n",
       "3                                         101.8                    78.5   \n",
       "4                                         101.8                    78.5   \n",
       "5                                         101.8                    78.5   \n",
       "\n",
       "     tax_revenue_country_country total_tax_rate_country population_country  \\\n",
       "rank                                                                         \n",
       "1                           24.2                   60.7         67059887.0   \n",
       "2                            9.6                   36.6        328239523.0   \n",
       "3                            9.6                   36.6        328239523.0   \n",
       "4                            9.6                   36.6        328239523.0   \n",
       "5                            9.6                   36.6        328239523.0   \n",
       "\n",
       "     latitude_country longitude_country  \n",
       "rank                                     \n",
       "1           46.227638          2.213749  \n",
       "2           37.090240        -95.712891  \n",
       "3           37.090240        -95.712891  \n",
       "4           37.090240        -95.712891  \n",
       "5           37.090240        -95.712891  \n",
       "\n",
       "[5 rows x 34 columns]"
      ]
     },
     "execution_count": 9,
     "metadata": {},
     "output_type": "execute_result"
    }
   ],
   "source": [
    "dataset.head()"
   ]
  },
  {
   "cell_type": "code",
   "execution_count": 10,
   "metadata": {},
   "outputs": [
    {
     "data": {
      "text/plain": [
       "(2640, 34)"
      ]
     },
     "execution_count": 10,
     "metadata": {},
     "output_type": "execute_result"
    }
   ],
   "source": [
    "dataset.shape"
   ]
  },
  {
   "cell_type": "code",
   "execution_count": 11,
   "metadata": {},
   "outputs": [
    {
     "data": {
      "text/plain": [
       "finalWorth                                      int64\n",
       "category                                       object\n",
       "personName                                     object\n",
       "age                                           float64\n",
       "country                                        object\n",
       "city                                           object\n",
       "source                                         object\n",
       "industries                                     object\n",
       "countryOfCitizenship                           object\n",
       "organization                                   object\n",
       "selfMade                                         bool\n",
       "status                                         object\n",
       "gender                                         object\n",
       "birthDate                                      object\n",
       "lastName                                       object\n",
       "firstName                                      object\n",
       "title                                          object\n",
       "date                                           object\n",
       "state                                          object\n",
       "residenceStateRegion                           object\n",
       "birthYear                                     float64\n",
       "birthMonth                                    float64\n",
       "birthDay                                      float64\n",
       "cpi_country                                   float64\n",
       "cpi_change_country                            float64\n",
       "gdp_country                                    object\n",
       "gross_tertiary_education_enrollment           float64\n",
       "gross_primary_education_enrollment_country    float64\n",
       "life_expectancy_country                       float64\n",
       "tax_revenue_country_country                   float64\n",
       "total_tax_rate_country                        float64\n",
       "population_country                            float64\n",
       "latitude_country                              float64\n",
       "longitude_country                             float64\n",
       "dtype: object"
      ]
     },
     "execution_count": 11,
     "metadata": {},
     "output_type": "execute_result"
    }
   ],
   "source": [
    "dataset.dtypes"
   ]
  },
  {
   "cell_type": "code",
   "execution_count": 14,
   "metadata": {},
   "outputs": [
    {
     "data": {
      "text/plain": [
       "Index(['finalWorth', 'category', 'personName', 'age', 'country', 'city',\n",
       "       'source', 'industries', 'countryOfCitizenship', 'organization',\n",
       "       'selfMade', 'status', 'gender', 'birthDate', 'lastName', 'firstName',\n",
       "       'title', 'date', 'state', 'residenceStateRegion', 'birthYear',\n",
       "       'birthMonth', 'birthDay', 'cpi_country', 'cpi_change_country',\n",
       "       'gdp_country', 'gross_tertiary_education_enrollment',\n",
       "       'gross_primary_education_enrollment_country', 'life_expectancy_country',\n",
       "       'tax_revenue_country_country', 'total_tax_rate_country',\n",
       "       'population_country', 'latitude_country', 'longitude_country'],\n",
       "      dtype='object')"
      ]
     },
     "execution_count": 14,
     "metadata": {},
     "output_type": "execute_result"
    }
   ],
   "source": [
    "dataset.columns"
   ]
  },
  {
   "cell_type": "code",
   "execution_count": 22,
   "metadata": {},
   "outputs": [
    {
     "data": {
      "text/plain": [
       "finalWorth                                     219\n",
       "category                                        18\n",
       "personName                                    2638\n",
       "age                                             79\n",
       "country                                         78\n",
       "city                                           741\n",
       "source                                         906\n",
       "industries                                      18\n",
       "countryOfCitizenship                            77\n",
       "organization                                   294\n",
       "selfMade                                         2\n",
       "status                                           6\n",
       "gender                                           2\n",
       "birthDate                                     2060\n",
       "lastName                                      1736\n",
       "firstName                                     1770\n",
       "title                                           97\n",
       "date                                             2\n",
       "state                                           45\n",
       "residenceStateRegion                             5\n",
       "birthYear                                       77\n",
       "birthMonth                                      12\n",
       "birthDay                                        31\n",
       "cpi_country                                     63\n",
       "cpi_change_country                              44\n",
       "gdp_country                                     68\n",
       "gross_tertiary_education_enrollment             63\n",
       "gross_primary_education_enrollment_country      60\n",
       "life_expectancy_country                         54\n",
       "tax_revenue_country_country                     57\n",
       "total_tax_rate_country                          63\n",
       "population_country                              68\n",
       "latitude_country                                68\n",
       "longitude_country                               68\n",
       "dtype: int64"
      ]
     },
     "execution_count": 22,
     "metadata": {},
     "output_type": "execute_result"
    }
   ],
   "source": [
    "dataset.nunique()"
   ]
  },
  {
   "cell_type": "code",
   "execution_count": 25,
   "metadata": {},
   "outputs": [
    {
     "data": {
      "text/plain": [
       "country\n",
       "United States    4575100\n",
       "China            1805500\n",
       "India             628700\n",
       "France            499500\n",
       "Germany           462100\n",
       "                  ...   \n",
       "Uruguay             1800\n",
       "Tanzania            1500\n",
       "Andorra             1500\n",
       "Bahrain             1500\n",
       "Armenia             1200\n",
       "Name: finalWorth, Length: 78, dtype: int64"
      ]
     },
     "execution_count": 25,
     "metadata": {},
     "output_type": "execute_result"
    }
   ],
   "source": [
    "by_country = dataset.groupby('country')['finalWorth'].sum()\n",
    "by_country.sort_values(ascending=False)"
   ]
  },
  {
   "cell_type": "code",
   "execution_count": 31,
   "metadata": {},
   "outputs": [
    {
     "data": {
      "text/plain": [
       "gender\n",
       "F      96\n",
       "M    1716\n",
       "dtype: int64"
      ]
     },
     "execution_count": 31,
     "metadata": {},
     "output_type": "execute_result"
    }
   ],
   "source": [
    "self_made_by_gender = dataset[dataset['selfMade']==True].groupby('gender').size()\n",
    "self_made_by_gender"
   ]
  },
  {
   "cell_type": "code",
   "execution_count": 36,
   "metadata": {},
   "outputs": [
    {
     "data": {
      "text/plain": [
       "gender\n",
       "F     337\n",
       "M    2303\n",
       "Name: selfMade, dtype: int64"
      ]
     },
     "execution_count": 36,
     "metadata": {},
     "output_type": "execute_result"
    }
   ],
   "source": [
    "n = dataset.groupby('gender')['selfMade'].size()\n",
    "n"
   ]
  },
  {
   "cell_type": "code",
   "execution_count": 37,
   "metadata": {},
   "outputs": [
    {
     "data": {
      "text/html": [
       "<div>\n",
       "<style scoped>\n",
       "    .dataframe tbody tr th:only-of-type {\n",
       "        vertical-align: middle;\n",
       "    }\n",
       "\n",
       "    .dataframe tbody tr th {\n",
       "        vertical-align: top;\n",
       "    }\n",
       "\n",
       "    .dataframe thead th {\n",
       "        text-align: right;\n",
       "    }\n",
       "</style>\n",
       "<table border=\"1\" class=\"dataframe\">\n",
       "  <thead>\n",
       "    <tr style=\"text-align: right;\">\n",
       "      <th>selfMade</th>\n",
       "      <th>False</th>\n",
       "      <th>True</th>\n",
       "      <th>Total</th>\n",
       "    </tr>\n",
       "    <tr>\n",
       "      <th>gender</th>\n",
       "      <th></th>\n",
       "      <th></th>\n",
       "      <th></th>\n",
       "    </tr>\n",
       "  </thead>\n",
       "  <tbody>\n",
       "    <tr>\n",
       "      <th>F</th>\n",
       "      <td>241</td>\n",
       "      <td>96</td>\n",
       "      <td>337</td>\n",
       "    </tr>\n",
       "    <tr>\n",
       "      <th>M</th>\n",
       "      <td>587</td>\n",
       "      <td>1716</td>\n",
       "      <td>2303</td>\n",
       "    </tr>\n",
       "  </tbody>\n",
       "</table>\n",
       "</div>"
      ],
      "text/plain": [
       "selfMade  False  True  Total\n",
       "gender                      \n",
       "F           241    96    337\n",
       "M           587  1716   2303"
      ]
     },
     "execution_count": 37,
     "metadata": {},
     "output_type": "execute_result"
    }
   ],
   "source": [
    "result = dataset.groupby(['gender', 'selfMade']).size().unstack(fill_value=0)\n",
    "\n",
    "result['Total'] = result.sum(axis=1)\n",
    "\n",
    "result"
   ]
  },
  {
   "cell_type": "code",
   "execution_count": null,
   "metadata": {},
   "outputs": [],
   "source": []
  }
 ],
 "metadata": {
  "kernelspec": {
   "display_name": "Python 3",
   "language": "python",
   "name": "python3"
  },
  "language_info": {
   "codemirror_mode": {
    "name": "ipython",
    "version": 3
   },
   "file_extension": ".py",
   "mimetype": "text/x-python",
   "name": "python",
   "nbconvert_exporter": "python",
   "pygments_lexer": "ipython3",
   "version": "3.11.4"
  }
 },
 "nbformat": 4,
 "nbformat_minor": 2
}

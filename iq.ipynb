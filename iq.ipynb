{
 "cells": [
  {
   "cell_type": "code",
   "execution_count": 1,
   "metadata": {},
   "outputs": [],
   "source": [
    "import pandas as pd\n",
    "import seaborn as sns\n",
    "import matplotlib.pyplot as plt"
   ]
  },
  {
   "cell_type": "code",
   "execution_count": 2,
   "metadata": {},
   "outputs": [],
   "source": [
    "iq_cl = pd.read_csv('iq_classification.csv')"
   ]
  },
  {
   "cell_type": "code",
   "execution_count": 4,
   "metadata": {},
   "outputs": [
    {
     "data": {
      "text/html": [
       "<div>\n",
       "<style scoped>\n",
       "    .dataframe tbody tr th:only-of-type {\n",
       "        vertical-align: middle;\n",
       "    }\n",
       "\n",
       "    .dataframe tbody tr th {\n",
       "        vertical-align: top;\n",
       "    }\n",
       "\n",
       "    .dataframe thead th {\n",
       "        text-align: right;\n",
       "    }\n",
       "</style>\n",
       "<table border=\"1\" class=\"dataframe\">\n",
       "  <thead>\n",
       "    <tr style=\"text-align: right;\">\n",
       "      <th></th>\n",
       "      <th>IQ range;Classification;Percentile (%)</th>\n",
       "    </tr>\n",
       "  </thead>\n",
       "  <tbody>\n",
       "    <tr>\n",
       "      <th>0</th>\n",
       "      <td>180-;Genius; &lt;0.01%</td>\n",
       "    </tr>\n",
       "    <tr>\n",
       "      <th>1</th>\n",
       "      <td>160-179;Almost genius;0.01%</td>\n",
       "    </tr>\n",
       "    <tr>\n",
       "      <th>2</th>\n",
       "      <td>145-159;Very gifted;0.1%</td>\n",
       "    </tr>\n",
       "    <tr>\n",
       "      <th>3</th>\n",
       "      <td>130-144;Gifted;2.3%</td>\n",
       "    </tr>\n",
       "    <tr>\n",
       "      <th>4</th>\n",
       "      <td>120-129 ;Moderately gifted;6.7%</td>\n",
       "    </tr>\n",
       "    <tr>\n",
       "      <th>5</th>\n",
       "      <td>110-119;Above average;16.1%</td>\n",
       "    </tr>\n",
       "    <tr>\n",
       "      <th>6</th>\n",
       "      <td>90-109;Average intelligence;50.0%</td>\n",
       "    </tr>\n",
       "    <tr>\n",
       "      <th>7</th>\n",
       "      <td>85-89;Below average;16.1%</td>\n",
       "    </tr>\n",
       "    <tr>\n",
       "      <th>8</th>\n",
       "      <td>70-84;Borderline intellectual functioning;2.3%</td>\n",
       "    </tr>\n",
       "    <tr>\n",
       "      <th>9</th>\n",
       "      <td>50-69;Mild intellectual disability;2.3%</td>\n",
       "    </tr>\n",
       "    <tr>\n",
       "      <th>10</th>\n",
       "      <td>35-49;Moderate intellectual disability;1.0%</td>\n",
       "    </tr>\n",
       "    <tr>\n",
       "      <th>11</th>\n",
       "      <td>20-34;Severe intellectual disability;0.5%</td>\n",
       "    </tr>\n",
       "    <tr>\n",
       "      <th>12</th>\n",
       "      <td>-20;Profound intellectual disability;&lt;0.1%</td>\n",
       "    </tr>\n",
       "  </tbody>\n",
       "</table>\n",
       "</div>"
      ],
      "text/plain": [
       "            IQ range;Classification;Percentile (%)\n",
       "0                              180-;Genius; <0.01%\n",
       "1                      160-179;Almost genius;0.01%\n",
       "2                         145-159;Very gifted;0.1%\n",
       "3                              130-144;Gifted;2.3%\n",
       "4                  120-129 ;Moderately gifted;6.7%\n",
       "5                      110-119;Above average;16.1%\n",
       "6                90-109;Average intelligence;50.0%\n",
       "7                        85-89;Below average;16.1%\n",
       "8   70-84;Borderline intellectual functioning;2.3%\n",
       "9          50-69;Mild intellectual disability;2.3%\n",
       "10     35-49;Moderate intellectual disability;1.0%\n",
       "11       20-34;Severe intellectual disability;0.5%\n",
       "12      -20;Profound intellectual disability;<0.1%"
      ]
     },
     "execution_count": 4,
     "metadata": {},
     "output_type": "execute_result"
    }
   ],
   "source": [
    "iq_cl"
   ]
  },
  {
   "cell_type": "code",
   "execution_count": 6,
   "metadata": {},
   "outputs": [
    {
     "data": {
      "text/html": [
       "<div>\n",
       "<style scoped>\n",
       "    .dataframe tbody tr th:only-of-type {\n",
       "        vertical-align: middle;\n",
       "    }\n",
       "\n",
       "    .dataframe tbody tr th {\n",
       "        vertical-align: top;\n",
       "    }\n",
       "\n",
       "    .dataframe thead th {\n",
       "        text-align: right;\n",
       "    }\n",
       "</style>\n",
       "<table border=\"1\" class=\"dataframe\">\n",
       "  <thead>\n",
       "    <tr style=\"text-align: right;\">\n",
       "      <th></th>\n",
       "      <th>Rank</th>\n",
       "      <th>Country</th>\n",
       "      <th>Average IQ</th>\n",
       "      <th>Continent</th>\n",
       "      <th>Literacy Rate</th>\n",
       "      <th>Nobel Prices</th>\n",
       "      <th>HDI (2021)</th>\n",
       "      <th>Mean years of schooling - 2021</th>\n",
       "      <th>GNI - 2021</th>\n",
       "      <th>Population - 2023</th>\n",
       "    </tr>\n",
       "  </thead>\n",
       "  <tbody>\n",
       "    <tr>\n",
       "      <th>0</th>\n",
       "      <td>1</td>\n",
       "      <td>Japan</td>\n",
       "      <td>106.48</td>\n",
       "      <td>Asia</td>\n",
       "      <td>0.99</td>\n",
       "      <td>29</td>\n",
       "      <td>0.925</td>\n",
       "      <td>13.4</td>\n",
       "      <td>42274.0</td>\n",
       "      <td>123294513</td>\n",
       "    </tr>\n",
       "    <tr>\n",
       "      <th>1</th>\n",
       "      <td>2</td>\n",
       "      <td>Taiwan</td>\n",
       "      <td>106.47</td>\n",
       "      <td>Asia</td>\n",
       "      <td>0.96</td>\n",
       "      <td>4</td>\n",
       "      <td>NaN</td>\n",
       "      <td>NaN</td>\n",
       "      <td>NaN</td>\n",
       "      <td>10143543</td>\n",
       "    </tr>\n",
       "    <tr>\n",
       "      <th>2</th>\n",
       "      <td>3</td>\n",
       "      <td>Singapore</td>\n",
       "      <td>105.89</td>\n",
       "      <td>Asia</td>\n",
       "      <td>0.97</td>\n",
       "      <td>0</td>\n",
       "      <td>0.939</td>\n",
       "      <td>11.9</td>\n",
       "      <td>90919.0</td>\n",
       "      <td>6014723</td>\n",
       "    </tr>\n",
       "    <tr>\n",
       "      <th>3</th>\n",
       "      <td>4</td>\n",
       "      <td>Hong Kong</td>\n",
       "      <td>105.37</td>\n",
       "      <td>Asia</td>\n",
       "      <td>0.94</td>\n",
       "      <td>1</td>\n",
       "      <td>0.952</td>\n",
       "      <td>12.2</td>\n",
       "      <td>62607.0</td>\n",
       "      <td>7491609</td>\n",
       "    </tr>\n",
       "    <tr>\n",
       "      <th>4</th>\n",
       "      <td>5</td>\n",
       "      <td>China</td>\n",
       "      <td>104.10</td>\n",
       "      <td>Asia</td>\n",
       "      <td>0.96</td>\n",
       "      <td>8</td>\n",
       "      <td>0.768</td>\n",
       "      <td>7.6</td>\n",
       "      <td>17504.0</td>\n",
       "      <td>1425671352</td>\n",
       "    </tr>\n",
       "  </tbody>\n",
       "</table>\n",
       "</div>"
      ],
      "text/plain": [
       "   Rank    Country  Average IQ Continent  Literacy Rate  Nobel Prices  \\\n",
       "0     1      Japan      106.48      Asia           0.99            29   \n",
       "1     2     Taiwan      106.47      Asia           0.96             4   \n",
       "2     3  Singapore      105.89      Asia           0.97             0   \n",
       "3     4  Hong Kong      105.37      Asia           0.94             1   \n",
       "4     5      China      104.10      Asia           0.96             8   \n",
       "\n",
       "   HDI (2021)  Mean years of schooling - 2021   GNI - 2021 Population - 2023  \n",
       "0       0.925                            13.4      42274.0         123294513  \n",
       "1         NaN                             NaN          NaN          10143543  \n",
       "2       0.939                            11.9      90919.0           6014723  \n",
       "3       0.952                            12.2      62607.0           7491609  \n",
       "4       0.768                             7.6      17504.0        1425671352  "
      ]
     },
     "execution_count": 6,
     "metadata": {},
     "output_type": "execute_result"
    }
   ],
   "source": [
    "avg = pd.read_csv('avgIQpercountry.csv')\n",
    "avg.head()"
   ]
  },
  {
   "cell_type": "code",
   "execution_count": 7,
   "metadata": {},
   "outputs": [
    {
     "data": {
      "text/plain": [
       "Rank                                int64\n",
       "Country                            object\n",
       "Average IQ                        float64\n",
       "Continent                          object\n",
       "Literacy Rate                     float64\n",
       "Nobel Prices                        int64\n",
       "HDI (2021)                        float64\n",
       "Mean years of schooling - 2021    float64\n",
       " GNI - 2021                       float64\n",
       "Population - 2023                  object\n",
       "dtype: object"
      ]
     },
     "execution_count": 7,
     "metadata": {},
     "output_type": "execute_result"
    }
   ],
   "source": [
    "avg.dtypes"
   ]
  },
  {
   "cell_type": "code",
   "execution_count": 8,
   "metadata": {},
   "outputs": [
    {
     "data": {
      "text/plain": [
       "Rank                               0\n",
       "Country                            0\n",
       "Average IQ                         0\n",
       "Continent                          0\n",
       "Literacy Rate                      0\n",
       "Nobel Prices                       0\n",
       "HDI (2021)                        14\n",
       "Mean years of schooling - 2021    14\n",
       " GNI - 2021                       14\n",
       "Population - 2023                  0\n",
       "dtype: int64"
      ]
     },
     "execution_count": 8,
     "metadata": {},
     "output_type": "execute_result"
    }
   ],
   "source": [
    "avg.isnull().sum()"
   ]
  },
  {
   "cell_type": "code",
   "execution_count": 9,
   "metadata": {},
   "outputs": [
    {
     "data": {
      "text/plain": [
       "(193, 10)"
      ]
     },
     "execution_count": 9,
     "metadata": {},
     "output_type": "execute_result"
    }
   ],
   "source": [
    "avg.shape"
   ]
  },
  {
   "cell_type": "code",
   "execution_count": 11,
   "metadata": {},
   "outputs": [
    {
     "data": {
      "text/plain": [
       "Rank                              193\n",
       "Country                           193\n",
       "Average IQ                        173\n",
       "Continent                           8\n",
       "Literacy Rate                      52\n",
       "Nobel Prices                       22\n",
       "HDI (2021)                        153\n",
       "Mean years of schooling - 2021     85\n",
       " GNI - 2021                       179\n",
       "Population - 2023                 192\n",
       "dtype: int64"
      ]
     },
     "execution_count": 11,
     "metadata": {},
     "output_type": "execute_result"
    }
   ],
   "source": [
    "avg.nunique()"
   ]
  },
  {
   "cell_type": "code",
   "execution_count": 12,
   "metadata": {},
   "outputs": [
    {
     "data": {
      "text/html": [
       "<div>\n",
       "<style scoped>\n",
       "    .dataframe tbody tr th:only-of-type {\n",
       "        vertical-align: middle;\n",
       "    }\n",
       "\n",
       "    .dataframe tbody tr th {\n",
       "        vertical-align: top;\n",
       "    }\n",
       "\n",
       "    .dataframe thead th {\n",
       "        text-align: right;\n",
       "    }\n",
       "</style>\n",
       "<table border=\"1\" class=\"dataframe\">\n",
       "  <thead>\n",
       "    <tr style=\"text-align: right;\">\n",
       "      <th></th>\n",
       "      <th>Rank</th>\n",
       "      <th>Country</th>\n",
       "      <th>Average IQ</th>\n",
       "      <th>Continent</th>\n",
       "      <th>Literacy Rate</th>\n",
       "      <th>Nobel Prices</th>\n",
       "      <th>HDI (2021)</th>\n",
       "      <th>Mean years of schooling - 2021</th>\n",
       "      <th>GNI - 2021</th>\n",
       "      <th>Population - 2023</th>\n",
       "    </tr>\n",
       "  </thead>\n",
       "  <tbody>\n",
       "    <tr>\n",
       "      <th>0</th>\n",
       "      <td>1</td>\n",
       "      <td>Japan</td>\n",
       "      <td>106.48</td>\n",
       "      <td>Asia</td>\n",
       "      <td>0.99</td>\n",
       "      <td>29</td>\n",
       "      <td>0.925</td>\n",
       "      <td>13.4</td>\n",
       "      <td>42274.0</td>\n",
       "      <td>123294513</td>\n",
       "    </tr>\n",
       "    <tr>\n",
       "      <th>1</th>\n",
       "      <td>2</td>\n",
       "      <td>Taiwan</td>\n",
       "      <td>106.47</td>\n",
       "      <td>Asia</td>\n",
       "      <td>0.96</td>\n",
       "      <td>4</td>\n",
       "      <td>NaN</td>\n",
       "      <td>NaN</td>\n",
       "      <td>NaN</td>\n",
       "      <td>10143543</td>\n",
       "    </tr>\n",
       "    <tr>\n",
       "      <th>2</th>\n",
       "      <td>3</td>\n",
       "      <td>Singapore</td>\n",
       "      <td>105.89</td>\n",
       "      <td>Asia</td>\n",
       "      <td>0.97</td>\n",
       "      <td>0</td>\n",
       "      <td>0.939</td>\n",
       "      <td>11.9</td>\n",
       "      <td>90919.0</td>\n",
       "      <td>6014723</td>\n",
       "    </tr>\n",
       "    <tr>\n",
       "      <th>3</th>\n",
       "      <td>4</td>\n",
       "      <td>Hong Kong</td>\n",
       "      <td>105.37</td>\n",
       "      <td>Asia</td>\n",
       "      <td>0.94</td>\n",
       "      <td>1</td>\n",
       "      <td>0.952</td>\n",
       "      <td>12.2</td>\n",
       "      <td>62607.0</td>\n",
       "      <td>7491609</td>\n",
       "    </tr>\n",
       "    <tr>\n",
       "      <th>4</th>\n",
       "      <td>5</td>\n",
       "      <td>China</td>\n",
       "      <td>104.10</td>\n",
       "      <td>Asia</td>\n",
       "      <td>0.96</td>\n",
       "      <td>8</td>\n",
       "      <td>0.768</td>\n",
       "      <td>7.6</td>\n",
       "      <td>17504.0</td>\n",
       "      <td>1425671352</td>\n",
       "    </tr>\n",
       "    <tr>\n",
       "      <th>...</th>\n",
       "      <td>...</td>\n",
       "      <td>...</td>\n",
       "      <td>...</td>\n",
       "      <td>...</td>\n",
       "      <td>...</td>\n",
       "      <td>...</td>\n",
       "      <td>...</td>\n",
       "      <td>...</td>\n",
       "      <td>...</td>\n",
       "      <td>...</td>\n",
       "    </tr>\n",
       "    <tr>\n",
       "      <th>188</th>\n",
       "      <td>189</td>\n",
       "      <td>Gambia</td>\n",
       "      <td>52.68</td>\n",
       "      <td>Africa</td>\n",
       "      <td>0.58</td>\n",
       "      <td>0</td>\n",
       "      <td>0.500</td>\n",
       "      <td>4.6</td>\n",
       "      <td>2172.0</td>\n",
       "      <td>2773168</td>\n",
       "    </tr>\n",
       "    <tr>\n",
       "      <th>189</th>\n",
       "      <td>190</td>\n",
       "      <td>Guatemala</td>\n",
       "      <td>47.72</td>\n",
       "      <td>Central America</td>\n",
       "      <td>0.79</td>\n",
       "      <td>2</td>\n",
       "      <td>0.627</td>\n",
       "      <td>5.7</td>\n",
       "      <td>8723.0</td>\n",
       "      <td>18092026</td>\n",
       "    </tr>\n",
       "    <tr>\n",
       "      <th>190</th>\n",
       "      <td>191</td>\n",
       "      <td>Liberia</td>\n",
       "      <td>45.07</td>\n",
       "      <td>Africa</td>\n",
       "      <td>0.48</td>\n",
       "      <td>2</td>\n",
       "      <td>0.481</td>\n",
       "      <td>5.1</td>\n",
       "      <td>1289.0</td>\n",
       "      <td>5418377</td>\n",
       "    </tr>\n",
       "    <tr>\n",
       "      <th>191</th>\n",
       "      <td>192</td>\n",
       "      <td>Sierra Leone</td>\n",
       "      <td>45.07</td>\n",
       "      <td>Africa</td>\n",
       "      <td>0.48</td>\n",
       "      <td>0</td>\n",
       "      <td>0.477</td>\n",
       "      <td>4.6</td>\n",
       "      <td>1622.0</td>\n",
       "      <td>8791092</td>\n",
       "    </tr>\n",
       "    <tr>\n",
       "      <th>192</th>\n",
       "      <td>193</td>\n",
       "      <td>Nepal</td>\n",
       "      <td>42.99</td>\n",
       "      <td>Asia</td>\n",
       "      <td>0.65</td>\n",
       "      <td>0</td>\n",
       "      <td>0.602</td>\n",
       "      <td>5.1</td>\n",
       "      <td>3877.0</td>\n",
       "      <td>30896590</td>\n",
       "    </tr>\n",
       "  </tbody>\n",
       "</table>\n",
       "<p>193 rows × 10 columns</p>\n",
       "</div>"
      ],
      "text/plain": [
       "     Rank       Country  Average IQ        Continent  Literacy Rate  \\\n",
       "0       1         Japan      106.48             Asia           0.99   \n",
       "1       2        Taiwan      106.47             Asia           0.96   \n",
       "2       3     Singapore      105.89             Asia           0.97   \n",
       "3       4     Hong Kong      105.37             Asia           0.94   \n",
       "4       5         China      104.10             Asia           0.96   \n",
       "..    ...           ...         ...              ...            ...   \n",
       "188   189        Gambia       52.68           Africa           0.58   \n",
       "189   190     Guatemala       47.72  Central America           0.79   \n",
       "190   191       Liberia       45.07           Africa           0.48   \n",
       "191   192  Sierra Leone       45.07           Africa           0.48   \n",
       "192   193         Nepal       42.99             Asia           0.65   \n",
       "\n",
       "     Nobel Prices  HDI (2021)  Mean years of schooling - 2021   GNI - 2021  \\\n",
       "0              29       0.925                            13.4      42274.0   \n",
       "1               4         NaN                             NaN          NaN   \n",
       "2               0       0.939                            11.9      90919.0   \n",
       "3               1       0.952                            12.2      62607.0   \n",
       "4               8       0.768                             7.6      17504.0   \n",
       "..            ...         ...                             ...          ...   \n",
       "188             0       0.500                             4.6       2172.0   \n",
       "189             2       0.627                             5.7       8723.0   \n",
       "190             2       0.481                             5.1       1289.0   \n",
       "191             0       0.477                             4.6       1622.0   \n",
       "192             0       0.602                             5.1       3877.0   \n",
       "\n",
       "    Population - 2023  \n",
       "0           123294513  \n",
       "1            10143543  \n",
       "2             6014723  \n",
       "3             7491609  \n",
       "4          1425671352  \n",
       "..                ...  \n",
       "188           2773168  \n",
       "189          18092026  \n",
       "190           5418377  \n",
       "191           8791092  \n",
       "192          30896590  \n",
       "\n",
       "[193 rows x 10 columns]"
      ]
     },
     "execution_count": 12,
     "metadata": {},
     "output_type": "execute_result"
    }
   ],
   "source": [
    "avg.sort_values('Average IQ', ascending=False)"
   ]
  },
  {
   "cell_type": "code",
   "execution_count": 13,
   "metadata": {},
   "outputs": [
    {
     "data": {
      "text/plain": [
       "Continent\n",
       "Africa             68.566346\n",
       "Asia               85.804375\n",
       "Central America    75.113043\n",
       "Europe             94.904878\n",
       "Europe/Asia        89.196667\n",
       "North America      94.540000\n",
       "Oceania            88.134000\n",
       "South America      83.783333\n",
       "Name: Average IQ, dtype: float64"
      ]
     },
     "execution_count": 13,
     "metadata": {},
     "output_type": "execute_result"
    }
   ],
   "source": [
    "continent = avg.groupby('Continent')['Average IQ'].mean()\n",
    "continent"
   ]
  },
  {
   "cell_type": "code",
   "execution_count": 14,
   "metadata": {},
   "outputs": [
    {
     "data": {
      "text/plain": [
       "Continent\n",
       "Africa              5.806122\n",
       "Asia                9.125000\n",
       "Central America     9.031579\n",
       "Europe             12.195122\n",
       "Europe/Asia        11.400000\n",
       "North America      12.233333\n",
       "Oceania             9.087500\n",
       "South America       9.575000\n",
       "Name: Mean years of schooling - 2021, dtype: float64"
      ]
     },
     "execution_count": 14,
     "metadata": {},
     "output_type": "execute_result"
    }
   ],
   "source": [
    "school = avg.groupby('Continent')['Mean years of schooling - 2021'].mean()\n",
    "school"
   ]
  },
  {
   "cell_type": "code",
   "execution_count": 22,
   "metadata": {},
   "outputs": [
    {
     "data": {
      "text/plain": [
       "<seaborn.axisgrid.JointGrid at 0x1aa7042b490>"
      ]
     },
     "execution_count": 22,
     "metadata": {},
     "output_type": "execute_result"
    },
    {
     "data": {
      "image/png": "[encoded data removed]",
      "text/plain": [
       "<Figure size 600x600 with 3 Axes>"
      ]
     },
     "metadata": {},
     "output_type": "display_data"
    }
   ],
   "source": [
    "sns.jointplot(data=avg, x='Average IQ', y='Literacy Rate', hue='Continent')"
   ]
  }
 ],
 "metadata": {
  "kernelspec": {
   "display_name": "Python 3",
   "language": "python",
   "name": "python3"
  },
  "language_info": {
   "codemirror_mode": {
    "name": "ipython",
    "version": 3
   },
   "file_extension": ".py",
   "mimetype": "text/x-python",
   "name": "python",
   "nbconvert_exporter": "python",
   "pygments_lexer": "ipython3",
   "version": "3.11.4"
  }
 },
 "nbformat": 4,
 "nbformat_minor": 2
}
